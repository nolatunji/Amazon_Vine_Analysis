{
  "nbformat": 4,
  "nbformat_minor": 0,
  "metadata": {
    "colab": {
      "name": "Amazon_Reviews_ETL.ipynb",
      "provenance": [],
      "collapsed_sections": []
    },
    "kernelspec": {
      "name": "python3",
      "display_name": "Python 3"
    },
    "nteract": {
      "version": "0.12.3"
    },
    "language_info": {
      "name": "python"
    }
  },
  "cells": [
    {
      "cell_type": "code",
      "metadata": {
        "id": "V58rxea0HqSa",
        "colab": {
          "base_uri": "https://localhost:8080/"
        },
        "outputId": "361f7611-80fe-4be1-9ec8-067ef65a58bb"
      },
      "source": [
        "import os\n",
        "# Find the latest version of spark 3.0 from http://www.apache.org/dist/spark/ and enter as the spark version\n",
        "# For example:\n",
        "# spark_version = 'spark-3.0.3'\n",
        "spark_version = 'spark-3.0.3'\n",
        "os.environ['SPARK_VERSION']=spark_version\n",
        "\n",
        "# Install Spark and Java\n",
        "!apt-get update\n",
        "!apt-get install openjdk-11-jdk-headless -qq > /dev/null\n",
        "!wget -q http://www.apache.org/dist/spark/$SPARK_VERSION/$SPARK_VERSION-bin-hadoop2.7.tgz\n",
        "!tar xf $SPARK_VERSION-bin-hadoop2.7.tgz\n",
        "!pip install -q findspark\n",
        "\n",
        "# Set Environment Variables\n",
        "import os\n",
        "os.environ[\"JAVA_HOME\"] = \"/usr/lib/jvm/java-11-openjdk-amd64\"\n",
        "os.environ[\"SPARK_HOME\"] = f\"/content/{spark_version}-bin-hadoop2.7\"\n",
        "\n",
        "# Start a SparkSession\n",
        "import findspark\n",
        "findspark.init()"
      ],
      "execution_count": null,
      "outputs": [
        {
          "output_type": "stream",
          "name": "stdout",
          "text": [
            "\r0% [Working]\r            \rGet:1 http://security.ubuntu.com/ubuntu bionic-security InRelease [88.7 kB]\n",
            "\r0% [Connecting to archive.ubuntu.com (185.125.190.39)] [1 InRelease 14.2 kB/88.\r                                                                               \rGet:2 https://cloud.r-project.org/bin/linux/ubuntu bionic-cran40/ InRelease [3,626 B]\n",
            "Ign:3 https://developer.download.nvidia.com/compute/cuda/repos/ubuntu1804/x86_64  InRelease\n",
            "Ign:4 https://developer.download.nvidia.com/compute/machine-learning/repos/ubuntu1804/x86_64  InRelease\n",
            "Hit:5 https://developer.download.nvidia.com/compute/cuda/repos/ubuntu1804/x86_64  Release\n",
            "Hit:6 http://archive.ubuntu.com/ubuntu bionic InRelease\n",
            "Hit:7 https://developer.download.nvidia.com/compute/machine-learning/repos/ubuntu1804/x86_64  Release\n",
            "Get:8 http://ppa.launchpad.net/c2d4u.team/c2d4u4.0+/ubuntu bionic InRelease [15.9 kB]\n",
            "Get:9 http://archive.ubuntu.com/ubuntu bionic-updates InRelease [88.7 kB]\n",
            "Hit:10 http://ppa.launchpad.net/cran/libgit2/ubuntu bionic InRelease\n",
            "Get:11 http://archive.ubuntu.com/ubuntu bionic-backports InRelease [74.6 kB]\n",
            "Get:12 http://ppa.launchpad.net/deadsnakes/ppa/ubuntu bionic InRelease [15.9 kB]\n",
            "Get:13 http://security.ubuntu.com/ubuntu bionic-security/main amd64 Packages [2,728 kB]\n",
            "Hit:14 http://ppa.launchpad.net/graphics-drivers/ppa/ubuntu bionic InRelease\n",
            "Get:15 http://security.ubuntu.com/ubuntu bionic-security/restricted amd64 Packages [907 kB]\n",
            "Get:16 http://security.ubuntu.com/ubuntu bionic-security/universe amd64 Packages [1,496 kB]\n",
            "Get:19 http://ppa.launchpad.net/c2d4u.team/c2d4u4.0+/ubuntu bionic/main Sources [1,949 kB]\n",
            "Get:20 http://archive.ubuntu.com/ubuntu bionic-updates/main amd64 Packages [3,165 kB]\n",
            "Get:21 http://ppa.launchpad.net/c2d4u.team/c2d4u4.0+/ubuntu bionic/main amd64 Packages [999 kB]\n",
            "Get:22 http://archive.ubuntu.com/ubuntu bionic-updates/universe amd64 Packages [2,272 kB]\n",
            "Get:23 http://archive.ubuntu.com/ubuntu bionic-updates/restricted amd64 Packages [941 kB]\n",
            "Get:24 http://ppa.launchpad.net/deadsnakes/ppa/ubuntu bionic/main amd64 Packages [45.3 kB]\n",
            "Fetched 14.8 MB in 7s (2,268 kB/s)\n",
            "Reading package lists... Done\n"
          ]
        }
      ]
    },
    {
      "cell_type": "code",
      "metadata": {
        "id": "_xKwTpATHqSe",
        "colab": {
          "base_uri": "https://localhost:8080/"
        },
        "outputId": "3ab4d90d-b63a-48e4-cbc1-61429e9c424e"
      },
      "source": [
        "# Download the Postgres driver that will allow Spark to interact with Postgres.\n",
        "!wget https://jdbc.postgresql.org/download/postgresql-42.2.16.jar"
      ],
      "execution_count": null,
      "outputs": [
        {
          "output_type": "stream",
          "name": "stdout",
          "text": [
            "--2022-04-25 01:21:44--  https://jdbc.postgresql.org/download/postgresql-42.2.16.jar\n",
            "Resolving jdbc.postgresql.org (jdbc.postgresql.org)... 72.32.157.228, 2001:4800:3e1:1::228\n",
            "Connecting to jdbc.postgresql.org (jdbc.postgresql.org)|72.32.157.228|:443... connected.\n",
            "HTTP request sent, awaiting response... 200 OK\n",
            "Length: 1002883 (979K) [application/java-archive]\n",
            "Saving to: ‘postgresql-42.2.16.jar’\n",
            "\n",
            "postgresql-42.2.16. 100%[===================>] 979.38K  --.-KB/s    in 0.08s   \n",
            "\n",
            "2022-04-25 01:21:45 (11.4 MB/s) - ‘postgresql-42.2.16.jar’ saved [1002883/1002883]\n",
            "\n"
          ]
        }
      ]
    },
    {
      "cell_type": "code",
      "metadata": {
        "id": "MMqDAjVS0KN9"
      },
      "source": [
        "from pyspark.sql import SparkSession\n",
        "spark = SparkSession.builder.appName(\"M16-Amazon-Challenge\").config(\"spark.driver.extraClassPath\",\"/content/postgresql-42.2.16.jar\").getOrCreate()"
      ],
      "execution_count": null,
      "outputs": []
    },
    {
      "cell_type": "markdown",
      "metadata": {
        "id": "cyBsySGuY-9V"
      },
      "source": [
        "### Load Amazon Data into Spark DataFrame"
      ]
    },
    {
      "cell_type": "code",
      "metadata": {
        "id": "CtCmBhQJY-9Z",
        "colab": {
          "base_uri": "https://localhost:8080/"
        },
        "outputId": "37f49e48-4b5d-42ae-f7d7-491523ce0b68"
      },
      "source": [
        "from pyspark import SparkFiles\n",
        "url = \"https://s3.amazonaws.com/amazon-reviews-pds/tsv/amazon_reviews_us_Digital_Video_Download_v1_00.tsv.gz\"\n",
        "spark.sparkContext.addFile(url)\n",
        "df = spark.read.option(\"encoding\", \"UTF-8\").csv(SparkFiles.get(\"\"), sep=\"\\t\", header=True, inferSchema=True)\n",
        "df.show()"
      ],
      "execution_count": null,
      "outputs": [
        {
          "output_type": "stream",
          "name": "stdout",
          "text": [
            "+-----------+-----------+--------------+----------+--------------+--------------------+--------------------+-----------+-------------+-----------+----+-----------------+--------------------+--------------------+-----------+\n",
            "|marketplace|customer_id|     review_id|product_id|product_parent|       product_title|    product_category|star_rating|helpful_votes|total_votes|vine|verified_purchase|     review_headline|         review_body|review_date|\n",
            "+-----------+-----------+--------------+----------+--------------+--------------------+--------------------+-----------+-------------+-----------+----+-----------------+--------------------+--------------------+-----------+\n",
            "|         US|   12190288|R3FU16928EP5TC|B00AYB1482|     668895143|Enlightened: Seas...|Digital_Video_Dow...|          5|            0|          0|   N|                Y|I loved it and I ...|I loved it and I ...| 2015-08-31|\n",
            "|         US|   30549954|R1IZHHS1MH3AQ4|B00KQD28OM|     246219280|             Vicious|Digital_Video_Dow...|          5|            0|          0|   N|                Y|As always it seem...|As always it seem...| 2015-08-31|\n",
            "|         US|   52895410| R52R85WC6TIAH|B01489L5LQ|     534732318|         After Words|Digital_Video_Dow...|          4|           17|         18|   N|                Y|      Charming movie|This movie isn't ...| 2015-08-31|\n",
            "|         US|   27072354| R7HOOYTVIB0DS|B008LOVIIK|     239012694|Masterpiece: Insp...|Digital_Video_Dow...|          5|            0|          0|   N|                Y|          Five Stars|excellant this is...| 2015-08-31|\n",
            "|         US|   26939022|R1XQ2N5CDOZGNX|B0094LZMT0|     535858974|   On The Waterfront|Digital_Video_Dow...|          5|            0|          0|   N|                Y|Brilliant film fr...|Brilliant film fr...| 2015-08-31|\n",
            "|         US|    4772040|R1HCST57W334KN|B0112OSOQE|      38517795|Rick and Morty Se...|Digital_Video_Dow...|          5|            5|          6|   N|                Y|Best show on TV r...|If you don't like...| 2015-08-31|\n",
            "|         US|   12910040|R32BUTYQS1ZJBQ|B000NPE5SA|     373323715|      Africa Screams|Digital_Video_Dow...|          4|            1|          1|   N|                Y|Very funny. A typ...|Very funny.  A ty...| 2015-08-31|\n",
            "|         US|   38805573|  RH4SXPL4L9QU|B00XWV4QXG|     633842417| Entourage: Season 7|Digital_Video_Dow...|          3|            0|          0|   N|                Y|it was not as goo...|Strange as it is,...| 2015-08-31|\n",
            "|         US|   37100714|R37INWIQA5YW8N|B00X8UKOUK|     666093513|Catastrophe - Sea...|Digital_Video_Dow...|          2|            0|          0|   N|                Y|           Two Stars|Funny shows! We l...| 2015-08-31|\n",
            "|         US|   41234409|R18GSVAAS3N8GX|B00OOKXTFU|     801680808|The Worricker Tri...|Digital_Video_Dow...|          3|            0|          0|   N|                Y|        A tad Stuffy|Well made. Great ...| 2015-08-31|\n",
            "|         US|   24698954|R2QCG0ZZOHYUOX|B00URDJ600|     174981485|Mr. Selfridge, Se...|Digital_Video_Dow...|          5|            0|          0|   N|                Y|This show is awes...|This show is awes...| 2015-08-31|\n",
            "|         US|   11956809|R2B1OCYMUVMS5C|B009JUZ5I4|     654293980|  Five Branded Women|Digital_Video_Dow...|          5|            0|          0|   N|                Y|A good perspectiv...|A good perspectiv...| 2015-08-31|\n",
            "|         US|   11763902|R131ZJWHK0XXY0|B00PSLQYWE|     156264553|Downton Abbey Sea...|Digital_Video_Dow...|          4|            0|          0|   N|                Y|this saga gets be...|this saga gets be...| 2015-08-31|\n",
            "|         US|   46765633| RY6RIUNL03N8M|B00LI1COYA|     714145608|    Extant, Season 1|Digital_Video_Dow...|          5|            0|          0|   N|                Y|          Five Stars|         Great show.| 2015-08-31|\n",
            "|         US|   12411752|R2SWNCCEH2HPM5|B01347T9O8|     331499516|            Casanova|Digital_Video_Dow...|          1|            0|          0|   N|                Y|            One Star|Not my kind of mo...| 2015-08-31|\n",
            "|         US|   14717869|R127KV8E8ZC5L4|B00EC7VQX2|     627579257|Boardwalk Empire ...|Digital_Video_Dow...|          1|            0|          1|   N|                Y|I would have give...|I would have give...| 2015-08-31|\n",
            "|         US|    7438246|R3GH9B8WLQVY5T|B014P64276|     120489454|      Reunion Part 2|Digital_Video_Dow...|          5|            0|          0|   N|                Y|          Five Stars|         I loved it.| 2015-08-31|\n",
            "|         US|   51636125|R3AEFW1YB46FAU|B00X8UKOUK|     666093513|Catastrophe - Sea...|Digital_Video_Dow...|          3|            0|          0|   N|                Y|I want to like it...|I want to like it...| 2015-08-31|\n",
            "|         US|   47856888|R1ZHHD1GTHGMNK|B005U9RM0W|     728197314|      Grimm Season 1|Digital_Video_Dow...|          4|            1|          1|   N|                Y|If you're a sucke...|If you're a sucke...| 2015-08-31|\n",
            "|         US|    9210752|R2BCH4XK5CIK50|B00X8UKOUK|     666093513|Catastrophe - Sea...|Digital_Video_Dow...|          5|            0|          0|   N|                Y|         Great show.|Well done!!  Grea...| 2015-08-31|\n",
            "+-----------+-----------+--------------+----------+--------------+--------------------+--------------------+-----------+-------------+-----------+----+-----------------+--------------------+--------------------+-----------+\n",
            "only showing top 20 rows\n",
            "\n"
          ]
        }
      ]
    },
    {
      "cell_type": "markdown",
      "metadata": {
        "id": "2yUSe55VY-9t"
      },
      "source": [
        "### Create DataFrames to match tables"
      ]
    },
    {
      "cell_type": "code",
      "metadata": {
        "id": "C8REmY1aY-9u"
      },
      "source": [
        "from pyspark.sql.functions import to_date\n",
        "# Read in the Review dataset as a DataFrame\n"
      ],
      "execution_count": 7,
      "outputs": []
    },
    {
      "cell_type": "code",
      "metadata": {
        "id": "B0TESUDRY-90",
        "colab": {
          "base_uri": "https://localhost:8080/"
        },
        "outputId": "2114ad19-23dc-497e-dbdc-92ce1a372d68"
      },
      "source": [
        "from typing import Counter\n",
        "# Create the customers_table DataFrame\n",
        "customers_df = df.groupby(\"customer_id\").count().withColumnRenamed(\"count\", \"customer_count\")\n",
        "customers_df.show()"
      ],
      "execution_count": 43,
      "outputs": [
        {
          "output_type": "stream",
          "name": "stdout",
          "text": [
            "+-----------+--------------+\n",
            "|customer_id|customer_count|\n",
            "+-----------+--------------+\n",
            "|   36427874|             1|\n",
            "|   17687096|            10|\n",
            "|   43798350|             4|\n",
            "|   49387236|             1|\n",
            "|   24321836|             2|\n",
            "|   42543176|             1|\n",
            "|   16298288|             4|\n",
            "|   12333316|             1|\n",
            "|   25790304|             1|\n",
            "|   13786319|             1|\n",
            "|   24796052|             1|\n",
            "|   53049917|             4|\n",
            "|   30478898|             1|\n",
            "|   20829560|             3|\n",
            "|   29699080|             3|\n",
            "|    8681732|             3|\n",
            "|   34220092|             2|\n",
            "|   13727857|            14|\n",
            "|   13480593|             3|\n",
            "|   49935991|             1|\n",
            "+-----------+--------------+\n",
            "only showing top 20 rows\n",
            "\n"
          ]
        }
      ]
    },
    {
      "cell_type": "code",
      "metadata": {
        "id": "4FwXA6UvY-96",
        "colab": {
          "base_uri": "https://localhost:8080/"
        },
        "outputId": "915de0f9-1746-4bca-f5a7-9ae204a83623"
      },
      "source": [
        "# Create the products_table DataFrame and drop duplicates. \n",
        "products_df = df.select([\"product_id\",\"product_title\"]).drop_duplicates()\n",
        "products_df.show()\n"
      ],
      "execution_count": 45,
      "outputs": [
        {
          "output_type": "stream",
          "name": "stdout",
          "text": [
            "+----------+--------------------+\n",
            "|product_id|       product_title|\n",
            "+----------+--------------------+\n",
            "|B00YKA8PX0|        The Basement|\n",
            "|B004R10N6O|       Morning Glory|\n",
            "|B006MYGL8S|   Deadwood Season 1|\n",
            "|B008Y2X78S|Boardwalk Empire ...|\n",
            "|B003D8XCOC|Eating Out 2: Slo...|\n",
            "|B01489KEKY|Some Kind of Beau...|\n",
            "|B00E3WN0TY|   Banshee: Season 1|\n",
            "|B00DYQNC3E|Masterpiece: Eliz...|\n",
            "|B00QROEQ7G|             Amnesia|\n",
            "|B00QWUK1PQ|     Free the Nipple|\n",
            "|B00ZETHCTE|Louis C.K.: Oh My...|\n",
            "|B00MQOXI8Y|   The Expendables 3|\n",
            "|B003E4AXJC|Best of NOVA Volu...|\n",
            "|B00H6PG6J6|Lee Daniels' The ...|\n",
            "|B00NFDFCOI|  Words and Pictures|\n",
            "|B002WXLJ58|The Lord Of The R...|\n",
            "|B00KGJNQZQ|Robin Williams: W...|\n",
            "|B005LLSZNM|Sons Of Anarchy S...|\n",
            "|B0030JBBYW| The Point of Origin|\n",
            "|B0064J6RU8|Atlas Shrugged Pa...|\n",
            "+----------+--------------------+\n",
            "only showing top 20 rows\n",
            "\n"
          ]
        }
      ]
    },
    {
      "cell_type": "code",
      "metadata": {
        "id": "MkqyCuNQY-9-",
        "colab": {
          "base_uri": "https://localhost:8080/"
        },
        "outputId": "11213ec0-03c1-447e-a4c4-f5216717ebeb"
      },
      "source": [
        "# Create the review_id_table DataFrame. \n",
        "# Convert the 'review_date' column to a date datatype with to_date(\"review_date\", 'yyyy-MM-dd').alias(\"review_date\")\n",
        "review_id_df = df.select([\"review_id\",\"customer_id\",\"product_id\",\"product_parent\", to_date(\"review_date\", 'yyyy-MM-dd').alias(\"review_date\")])\n",
        "review_id_df.show()\n"
      ],
      "execution_count": 49,
      "outputs": [
        {
          "output_type": "stream",
          "name": "stdout",
          "text": [
            "+--------------+-----------+----------+--------------+-----------+\n",
            "|     review_id|customer_id|product_id|product_parent|review_date|\n",
            "+--------------+-----------+----------+--------------+-----------+\n",
            "|R3FU16928EP5TC|   12190288|B00AYB1482|     668895143| 2015-08-31|\n",
            "|R1IZHHS1MH3AQ4|   30549954|B00KQD28OM|     246219280| 2015-08-31|\n",
            "| R52R85WC6TIAH|   52895410|B01489L5LQ|     534732318| 2015-08-31|\n",
            "| R7HOOYTVIB0DS|   27072354|B008LOVIIK|     239012694| 2015-08-31|\n",
            "|R1XQ2N5CDOZGNX|   26939022|B0094LZMT0|     535858974| 2015-08-31|\n",
            "|R1HCST57W334KN|    4772040|B0112OSOQE|      38517795| 2015-08-31|\n",
            "|R32BUTYQS1ZJBQ|   12910040|B000NPE5SA|     373323715| 2015-08-31|\n",
            "|  RH4SXPL4L9QU|   38805573|B00XWV4QXG|     633842417| 2015-08-31|\n",
            "|R37INWIQA5YW8N|   37100714|B00X8UKOUK|     666093513| 2015-08-31|\n",
            "|R18GSVAAS3N8GX|   41234409|B00OOKXTFU|     801680808| 2015-08-31|\n",
            "|R2QCG0ZZOHYUOX|   24698954|B00URDJ600|     174981485| 2015-08-31|\n",
            "|R2B1OCYMUVMS5C|   11956809|B009JUZ5I4|     654293980| 2015-08-31|\n",
            "|R131ZJWHK0XXY0|   11763902|B00PSLQYWE|     156264553| 2015-08-31|\n",
            "| RY6RIUNL03N8M|   46765633|B00LI1COYA|     714145608| 2015-08-31|\n",
            "|R2SWNCCEH2HPM5|   12411752|B01347T9O8|     331499516| 2015-08-31|\n",
            "|R127KV8E8ZC5L4|   14717869|B00EC7VQX2|     627579257| 2015-08-31|\n",
            "|R3GH9B8WLQVY5T|    7438246|B014P64276|     120489454| 2015-08-31|\n",
            "|R3AEFW1YB46FAU|   51636125|B00X8UKOUK|     666093513| 2015-08-31|\n",
            "|R1ZHHD1GTHGMNK|   47856888|B005U9RM0W|     728197314| 2015-08-31|\n",
            "|R2BCH4XK5CIK50|    9210752|B00X8UKOUK|     666093513| 2015-08-31|\n",
            "+--------------+-----------+----------+--------------+-----------+\n",
            "only showing top 20 rows\n",
            "\n"
          ]
        }
      ]
    },
    {
      "cell_type": "code",
      "metadata": {
        "id": "lzMmkdKmY--D",
        "colab": {
          "base_uri": "https://localhost:8080/"
        },
        "outputId": "63d70084-c4b1-4805-bc95-798f497e9283"
      },
      "source": [
        "# Create the vine_table. DataFrame\n",
        "vine_df = df.select([\"review_id\",\"star_rating\",\"helpful_votes\",\"total_votes\",\"vine\",\"verified_purchase\"])\n",
        "vine_df.show()"
      ],
      "execution_count": 51,
      "outputs": [
        {
          "output_type": "stream",
          "name": "stdout",
          "text": [
            "+--------------+-----------+-------------+-----------+----+-----------------+\n",
            "|     review_id|star_rating|helpful_votes|total_votes|vine|verified_purchase|\n",
            "+--------------+-----------+-------------+-----------+----+-----------------+\n",
            "|R3FU16928EP5TC|          5|            0|          0|   N|                Y|\n",
            "|R1IZHHS1MH3AQ4|          5|            0|          0|   N|                Y|\n",
            "| R52R85WC6TIAH|          4|           17|         18|   N|                Y|\n",
            "| R7HOOYTVIB0DS|          5|            0|          0|   N|                Y|\n",
            "|R1XQ2N5CDOZGNX|          5|            0|          0|   N|                Y|\n",
            "|R1HCST57W334KN|          5|            5|          6|   N|                Y|\n",
            "|R32BUTYQS1ZJBQ|          4|            1|          1|   N|                Y|\n",
            "|  RH4SXPL4L9QU|          3|            0|          0|   N|                Y|\n",
            "|R37INWIQA5YW8N|          2|            0|          0|   N|                Y|\n",
            "|R18GSVAAS3N8GX|          3|            0|          0|   N|                Y|\n",
            "|R2QCG0ZZOHYUOX|          5|            0|          0|   N|                Y|\n",
            "|R2B1OCYMUVMS5C|          5|            0|          0|   N|                Y|\n",
            "|R131ZJWHK0XXY0|          4|            0|          0|   N|                Y|\n",
            "| RY6RIUNL03N8M|          5|            0|          0|   N|                Y|\n",
            "|R2SWNCCEH2HPM5|          1|            0|          0|   N|                Y|\n",
            "|R127KV8E8ZC5L4|          1|            0|          1|   N|                Y|\n",
            "|R3GH9B8WLQVY5T|          5|            0|          0|   N|                Y|\n",
            "|R3AEFW1YB46FAU|          3|            0|          0|   N|                Y|\n",
            "|R1ZHHD1GTHGMNK|          4|            1|          1|   N|                Y|\n",
            "|R2BCH4XK5CIK50|          5|            0|          0|   N|                Y|\n",
            "+--------------+-----------+-------------+-----------+----+-----------------+\n",
            "only showing top 20 rows\n",
            "\n"
          ]
        }
      ]
    },
    {
      "cell_type": "markdown",
      "metadata": {
        "id": "jITZhLkmY--J"
      },
      "source": [
        "### Connect to the AWS RDS instance and write each DataFrame to its table. "
      ]
    },
    {
      "cell_type": "code",
      "metadata": {
        "id": "7jiUvs1aY--L"
      },
      "source": [
        "# Configure settings for RDS\n",
        "mode = \"append\"\n",
        "jdbc_url=\"jdbc:postgresql://mod16challenge.cll5qgkscfzi.us-east-1.rds.amazonaws.com:5432/postgres\"\n",
        "config = {\"user\":\"postgres\", \n",
        "          \"password\": \"\", \n",
        "          \"driver\":\"org.postgresql.Driver\"}"
      ],
      "execution_count": 59,
      "outputs": []
    },
    {
      "cell_type": "code",
      "metadata": {
        "id": "T2zgZ-aKY--Q"
      },
      "source": [
        "# Write review_id_df to table in RDS\n",
        "review_id_df.write.jdbc(url=jdbc_url, table='review_id_table', mode=mode, properties=config)"
      ],
      "execution_count": 60,
      "outputs": []
    },
    {
      "cell_type": "code",
      "metadata": {
        "id": "1m3yzn-LY--U"
      },
      "source": [
        "# Write products_df to table in RDS\n",
        "# about 3 min\n",
        "products_df.write.jdbc(url=jdbc_url, table='products_table', mode=mode, properties=config)"
      ],
      "execution_count": 61,
      "outputs": []
    },
    {
      "cell_type": "code",
      "metadata": {
        "id": "KbXri15fY--Z"
      },
      "source": [
        "# Write customers_df to table in RDS\n",
        "# 5 min 14 s\n",
        "customers_df.write.jdbc(url=jdbc_url, table='customers_table', mode=mode, properties=config)"
      ],
      "execution_count": 62,
      "outputs": []
    },
    {
      "cell_type": "code",
      "metadata": {
        "id": "XdQknSHLY--e"
      },
      "source": [
        "# Write vine_df to table in RDS\n",
        "# 11 minutes\n",
        "vine_df.write.jdbc(url=jdbc_url, table='vine_table', mode=mode, properties=config)"
      ],
      "execution_count": 63,
      "outputs": []
    },
    {
      "cell_type": "code",
      "metadata": {
        "id": "Exuo6ebUsCqW"
      },
      "source": [
        ""
      ],
      "execution_count": null,
      "outputs": []
    }
  ]
}